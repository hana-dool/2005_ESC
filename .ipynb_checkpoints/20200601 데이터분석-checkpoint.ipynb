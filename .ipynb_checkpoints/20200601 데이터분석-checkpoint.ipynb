{
 "cells": [
  {
   "cell_type": "code",
   "execution_count": 1,
   "metadata": {},
   "outputs": [],
   "source": [
    "import numpy as np\n",
    "import pandas as pd\n",
    "import seaborn as sns\n",
    "import matplotlib as mpl\n",
    "import matplotlib.pyplot as plt"
   ]
  },
  {
   "cell_type": "markdown",
   "metadata": {},
   "source": [
    "# 데이터 전처리"
   ]
  },
  {
   "cell_type": "code",
   "execution_count": 2,
   "metadata": {},
   "outputs": [],
   "source": [
    "data=pd.read_csv('C:/Users/Han/Desktop/ddddaaa.csv')"
   ]
  },
  {
   "cell_type": "code",
   "execution_count": 3,
   "metadata": {},
   "outputs": [],
   "source": [
    "data.drop('Unnamed: 0',axis=1,inplace=True)"
   ]
  },
  {
   "cell_type": "code",
   "execution_count": 4,
   "metadata": {},
   "outputs": [],
   "source": [
    "from sklearn.preprocessing import StandardScaler\n",
    "scaler = StandardScaler()"
   ]
  },
  {
   "cell_type": "code",
   "execution_count": 5,
   "metadata": {
    "scrolled": true
   },
   "outputs": [],
   "source": [
    "data[['Q34','Q4B']]=scaler.fit_transform(data[['Q34','Q4B']])"
   ]
  },
  {
   "cell_type": "code",
   "execution_count": 6,
   "metadata": {},
   "outputs": [],
   "source": [
    "y=data['Q4B']"
   ]
  },
  {
   "cell_type": "code",
   "execution_count": 7,
   "metadata": {},
   "outputs": [],
   "source": [
    "X=data.drop('Q4B',axis=1)"
   ]
  },
  {
   "cell_type": "code",
   "execution_count": 8,
   "metadata": {
    "scrolled": true
   },
   "outputs": [
    {
     "name": "stdout",
     "output_type": "stream",
     "text": [
      "<class 'pandas.core.frame.DataFrame'>\n",
      "RangeIndex: 29070 entries, 0 to 29069\n",
      "Data columns (total 83 columns):\n",
      "Q34          29070 non-null float64\n",
      "Q1_1         29070 non-null int64\n",
      "Q2B_3        29070 non-null int64\n",
      "Q2B_4        29070 non-null int64\n",
      "Q2B_6        29070 non-null int64\n",
      "Q3_1         29070 non-null int64\n",
      "Q3_2         29070 non-null int64\n",
      "Q6A3_3       29070 non-null int64\n",
      "Q6A3_4       29070 non-null int64\n",
      "Q6A6_3       29070 non-null int64\n",
      "Q6A6_4       29070 non-null int64\n",
      "Q6A8_3       29070 non-null int64\n",
      "Q6A8_4       29070 non-null int64\n",
      "Q6A9_3       29070 non-null int64\n",
      "Q6A9_4       29070 non-null int64\n",
      "Q6A11_3      29070 non-null int64\n",
      "Q6A11_4      29070 non-null int64\n",
      "Q8_3         29070 non-null int64\n",
      "Q8_4         29070 non-null int64\n",
      "Q9_3         29070 non-null int64\n",
      "Q9_4         29070 non-null int64\n",
      "Q11_3        29070 non-null int64\n",
      "Q11_4        29070 non-null int64\n",
      "Q12B1_1      29070 non-null int64\n",
      "Q12E1_1      29070 non-null int64\n",
      "Q12F1_1      29070 non-null int64\n",
      "Q13_3        29070 non-null int64\n",
      "Q13_4        29070 non-null int64\n",
      "Q15_3        29070 non-null int64\n",
      "Q15_4        29070 non-null int64\n",
      "Q17A1_1      29070 non-null int64\n",
      "Q18_1        29070 non-null int64\n",
      "Q20_1        29070 non-null int64\n",
      "Q21A_1       29070 non-null int64\n",
      "Q24B_1       29070 non-null int64\n",
      "Q24B_2       29070 non-null int64\n",
      "Q24B_3       29070 non-null int64\n",
      "Q24B_4       29070 non-null int64\n",
      "Q24B_5       29070 non-null int64\n",
      "Q28_3.0      29070 non-null int64\n",
      "Q28_4.0      29070 non-null int64\n",
      "Q32A4_3.0    29070 non-null int64\n",
      "Q32A4_4.0    29070 non-null int64\n",
      "Q37_1        29070 non-null int64\n",
      "Q37_2        29070 non-null int64\n",
      "Q40_2        29070 non-null int64\n",
      "Q41_2        29070 non-null int64\n",
      "Q41_3        29070 non-null int64\n",
      "Q42A_2       29070 non-null int64\n",
      "Q42A_3       29070 non-null int64\n",
      "Q42A_4       29070 non-null int64\n",
      "Q43_1        29070 non-null int64\n",
      "Q43_2        29070 non-null int64\n",
      "Q44A_1       29070 non-null int64\n",
      "Q44A_2       29070 non-null int64\n",
      "Q44A_3       29070 non-null int64\n",
      "Q45A3_1      29070 non-null int64\n",
      "Q45A3_2      29070 non-null int64\n",
      "Q45A3_3      29070 non-null int64\n",
      "Q47_1        29070 non-null int64\n",
      "Q47_2        29070 non-null int64\n",
      "Q47_3        29070 non-null int64\n",
      "Q47C_1       29070 non-null int64\n",
      "Q47C_2       29070 non-null int64\n",
      "Q47C_3       29070 non-null int64\n",
      "Q48_1        29070 non-null int64\n",
      "Q48_2        29070 non-null int64\n",
      "Q49_1        29070 non-null int64\n",
      "Q49_2        29070 non-null int64\n",
      "FAM1_1       29070 non-null int64\n",
      "MAR_2        29070 non-null int64\n",
      "MAR_3        29070 non-null int64\n",
      "MAR_4        29070 non-null int64\n",
      "DE2_1        29070 non-null int64\n",
      "DE2_2        29070 non-null int64\n",
      "DE3_1        29070 non-null int64\n",
      "DE7_1        29070 non-null int64\n",
      "DE8_2        29070 non-null int64\n",
      "DE8_3        29070 non-null int64\n",
      "DE8_4        29070 non-null int64\n",
      "DE8_5        29070 non-null int64\n",
      "DE9_3        29070 non-null int64\n",
      "DE9_4        29070 non-null int64\n",
      "dtypes: float64(1), int64(82)\n",
      "memory usage: 18.4 MB\n"
     ]
    }
   ],
   "source": [
    "X.info()"
   ]
  },
  {
   "cell_type": "code",
   "execution_count": 56,
   "metadata": {},
   "outputs": [],
   "source": [
    "from sklearn.model_selection import train_test_split\n",
    "X_train, X_test, y_train, y_test = train_test_split(X, y, test_size=0.2, random_state=42)"
   ]
  },
  {
   "cell_type": "markdown",
   "metadata": {},
   "source": [
    "2-1. 일반 파라메터\n",
    "\n",
    "booster: 어떤 부스터 구조를 쓸지 결정한다. 이것은 gbtree, gblinear, dart가 있다.\n",
    "\n",
    "nthread: 몇 개의 쓰레드를 동시에 처리하도록 할지 결정한다. 디폴트는 “가능한 한 많이”.\n",
    "\n",
    "num_feature: feature 차원의 숫자를 정해야 하는 경우 옵션을 세팅한다. 디폴트는 “가능한 한 많이.”\n",
    "\n",
    "2-2. 부스팅 파라메터\n",
    "\n",
    "eta: learning rate다. 트리에 가지가 많을수록 과적합(overfitting) 하기 쉽다. 매 부스팅 스탭마다 weight를 주어 부스팅 과정에 과적합이 일어나지 않도록 한다\n",
    "\n",
    "gamma: 정보 획득(Information Gain)에서 -r로 표현한 바 있다. 이것이 커지면, 트리 깊이가 줄어들어 보수적인 모델이 된다. 디폴트 값은 0이다\n",
    "\n",
    "max_depth: 한 트리의 maximum depth. 숫자를 키울수록 모델의 복잡도가 커진다. 과적합 하기 쉽다. 디폴트는 6.\n",
    "\n",
    "lambda(L2 reg-form): L2 Regularization Form에 달리는 weights이다. 숫자가 클수록 보수적인 모델이 된다\n",
    "\n",
    "alpha(L1 reg-form): L1 Regularization Form weights다. 숫자가 클수록 보수적인 모델이 된다\n",
    "\n",
    "2-3. 학습 과정 파라메터\n",
    "\n",
    "objective: 목적 함수다. reg:linear(linear-regression), binary:logistic(binary-logistic classification), count:poisson(count data poison regression) 등 다양하다\n",
    "\n",
    "eval_metric: 모델의 평가 함수를 조정하는 함수다. rmse(root mean square error), logloss(log-likelihood), map(mean average precision) 등, 해당 데이터의 특성에 맞게 평가 함수를 조정한다\n",
    "\n",
    "2-4. 커맨드 라인 파라메터 num_rounds: boosting 라운드를 결정한다. 랜덤 하게 생성되는 모델이니만큼 이 수가 적당히 큰 게 좋다. epoch 옵션과 동일하다\n",
    "\n",
    "booster (부스터 모양)\n",
    "eval_metric (평가 함수) / objective (목적 함수)\n",
    "eta (러닝 레이트)\n",
    "L1 form (L1 레귤러라이제이션 폼이 L2보다 아웃라이어에 민감하다)\n",
    "L2 form"
   ]
  },
  {
   "cell_type": "code",
   "execution_count": null,
   "metadata": {},
   "outputs": [],
   "source": [
    "gbtree, gblinear or dart."
   ]
  },
  {
   "cell_type": "markdown",
   "metadata": {},
   "source": [
    "# xgb"
   ]
  },
  {
   "cell_type": "markdown",
   "metadata": {},
   "source": [
    "## hyper parameter 최적화"
   ]
  },
  {
   "cell_type": "markdown",
   "metadata": {},
   "source": [
    "### train set 을 줄여서 빠르게 하면 안될까?"
   ]
  },
  {
   "cell_type": "markdown",
   "metadata": {},
   "source": [
    "우선 우리 computing 의 한계를 정확히 파악하자. \n",
    "그렇다고 train set 을 줄여서 속도를 향상시키기에는, sample 의 수도 중요한 machine learning 특성상, 안좋은 값이 나왔다."
   ]
  },
  {
   "cell_type": "code",
   "execution_count": 50,
   "metadata": {},
   "outputs": [],
   "source": [
    "import xgboost as xgb\n",
    "from xgboost.sklearn import XGBRegressor\n",
    "model = XGBRegressor(n_estimators=200,\n",
    "                     learning_rate=0.05,\n",
    "                     max_depth=9,\n",
    "                     random_state=42)"
   ]
  },
  {
   "cell_type": "code",
   "execution_count": 51,
   "metadata": {},
   "outputs": [],
   "source": [
    "# train set 을 줄여서 fitting 해보자.\n",
    "X_train1, X_test1, y_train1, y_test1 = train_test_split(X, y, test_size=0.9, random_state=42)"
   ]
  },
  {
   "cell_type": "code",
   "execution_count": 52,
   "metadata": {},
   "outputs": [
    {
     "data": {
      "text/plain": [
       "XGBRegressor(base_score=0.5, booster='gbtree', colsample_bylevel=1,\n",
       "             colsample_bynode=1, colsample_bytree=1, gamma=0, gpu_id=-1,\n",
       "             importance_type='gain', interaction_constraints='',\n",
       "             learning_rate=0.05, max_delta_step=0, max_depth=9,\n",
       "             min_child_weight=1, missing=nan, monotone_constraints='()',\n",
       "             n_estimators=200, n_jobs=0, num_parallel_tree=1, random_state=42,\n",
       "             reg_alpha=0, reg_lambda=1, scale_pos_weight=1, subsample=1,\n",
       "             tree_method='exact', validate_parameters=1, verbosity=None)"
      ]
     },
     "execution_count": 52,
     "metadata": {},
     "output_type": "execute_result"
    }
   ],
   "source": [
    "model.fit(X_train1, y_train1,eval_metric=['rmse'])"
   ]
  },
  {
   "cell_type": "code",
   "execution_count": 53,
   "metadata": {},
   "outputs": [
    {
     "name": "stdout",
     "output_type": "stream",
     "text": [
      "MSE : 0.7714809496066646\n",
      "R_squared : 0.22965290481255296\n"
     ]
    }
   ],
   "source": [
    "from sklearn import metrics\n",
    "y_pred = model.predict(X_test1) \n",
    "print (\"MSE :\", metrics.mean_squared_error(y_test1, y_pred)) \n",
    "print('R_squared :',model.score(X_test1, y_test)) "
   ]
  },
  {
   "cell_type": "markdown",
   "metadata": {},
   "source": [
    "위에서 계산된 mse 는 0.77 이다. 그런데 같은 모델을 train set 이 많은 모델에 대해서 돌려보자"
   ]
  },
  {
   "cell_type": "code",
   "execution_count": 57,
   "metadata": {},
   "outputs": [
    {
     "data": {
      "text/plain": [
       "XGBRegressor(base_score=0.5, booster='gbtree', colsample_bylevel=1,\n",
       "             colsample_bynode=1, colsample_bytree=1, gamma=0, gpu_id=-1,\n",
       "             importance_type='gain', interaction_constraints='',\n",
       "             learning_rate=0.05, max_delta_step=0, max_depth=9,\n",
       "             min_child_weight=1, missing=nan, monotone_constraints='()',\n",
       "             n_estimators=200, n_jobs=0, num_parallel_tree=1, random_state=42,\n",
       "             reg_alpha=0, reg_lambda=1, scale_pos_weight=1, subsample=1,\n",
       "             tree_method='exact', validate_parameters=1, verbosity=None)"
      ]
     },
     "execution_count": 57,
     "metadata": {},
     "output_type": "execute_result"
    }
   ],
   "source": [
    "model.fit(X_train, y_train,eval_metric=['rmse'])"
   ]
  },
  {
   "cell_type": "code",
   "execution_count": 58,
   "metadata": {},
   "outputs": [
    {
     "name": "stdout",
     "output_type": "stream",
     "text": [
      "MSE : 0.6755949615796298\n",
      "R_squared : 0.3220525300175655\n"
     ]
    }
   ],
   "source": [
    "from sklearn import metrics\n",
    "y_pred = model.predict(X_test)\n",
    "print (\"MSE :\", metrics.mean_squared_error(y_test, y_pred))\n",
    "print('R_squared :',model.score(X_test, y_test)) "
   ]
  },
  {
   "cell_type": "markdown",
   "metadata": {},
   "source": [
    "약간 오래걸리지만, MSE 가 줄어든 모습을 볼 수 있다. 즉 train set 의 비율은 0.8 을 그대로 유지한 채로 모델을 학습해야 함을 알 수 있다."
   ]
  },
  {
   "cell_type": "markdown",
   "metadata": {},
   "source": [
    "### 파라메터의 최적화 순서는 어떻게 해야할까?"
   ]
  },
  {
   "cell_type": "markdown",
   "metadata": {},
   "source": [
    "cv 로 모두 한번에 할 수 없기 때문에, 최대한 서로 연관이 없어야 한다.\n",
    "tree 의 수에 관련된 parameter ( n_estimator ) <br>\n",
    "tree 의 모양에 관련된 parameter ( max depth 등 ) <br>\n",
    "부스팅에 대한 paramtermeter (learning rate, booster) <br>\n",
    "regularization 에 대한 parameter <br> \n",
    "총 4단계로 진행하자.\n"
   ]
  },
  {
   "cell_type": "code",
   "execution_count": 83,
   "metadata": {},
   "outputs": [],
   "source": [
    "# 우선 어느정도 탐색으로 좋은 값은 learning_rate=0.05,max_depth=9 였다. "
   ]
  },
  {
   "cell_type": "markdown",
   "metadata": {},
   "source": [
    "### n_eastimator"
   ]
  },
  {
   "cell_type": "markdown",
   "metadata": {},
   "source": [
    "n_eastimator: 어느정도 높아지면 컴퓨터가 터지는거 같다. \n",
    "얼만큼 수치가 올라가는지 알기위해, 대충 어느정도 성능이 나왔던 rate = 0.05 / max_depth = 9 를 이용해 n_estimator 의 향상 효과를 알아보도록 하자. "
   ]
  },
  {
   "cell_type": "code",
   "execution_count": 63,
   "metadata": {},
   "outputs": [],
   "source": [
    "model = XGBRegressor(learning_rate=0.05,\n",
    "                     max_depth=9,\n",
    "                     random_state=42)"
   ]
  },
  {
   "cell_type": "code",
   "execution_count": 64,
   "metadata": {},
   "outputs": [],
   "source": [
    "param_grid ={'n_estimators' : [100,200,300,400,500]}\n",
    "n_easimator_cv = GridSearchCV(model,param_grid,cv=5)"
   ]
  },
  {
   "cell_type": "code",
   "execution_count": 65,
   "metadata": {
    "scrolled": true
   },
   "outputs": [
    {
     "data": {
      "text/plain": [
       "GridSearchCV(cv=5,\n",
       "             estimator=XGBRegressor(base_score=None, booster=None,\n",
       "                                    colsample_bylevel=None,\n",
       "                                    colsample_bynode=None,\n",
       "                                    colsample_bytree=None, gamma=None,\n",
       "                                    gpu_id=None, importance_type='gain',\n",
       "                                    interaction_constraints=None,\n",
       "                                    learning_rate=0.05, max_delta_step=None,\n",
       "                                    max_depth=9, min_child_weight=None,\n",
       "                                    missing=nan, monotone_constraints=None,\n",
       "                                    n_estimators=100, n_jobs=None,\n",
       "                                    num_parallel_tree=None, random_state=42,\n",
       "                                    reg_alpha=None, reg_lambda=None,\n",
       "                                    scale_pos_weight=None, subsample=None,\n",
       "                                    tree_method=None, validate_parameters=None,\n",
       "                                    verbosity=None),\n",
       "             param_grid={'n_estimators': [100, 200, 300, 400, 500]})"
      ]
     },
     "execution_count": 65,
     "metadata": {},
     "output_type": "execute_result"
    }
   ],
   "source": [
    "n_easimator_cv.fit(X_train, y_train,eval_metric=['rmse'])"
   ]
  },
  {
   "cell_type": "code",
   "execution_count": 75,
   "metadata": {},
   "outputs": [
    {
     "data": {
      "text/plain": [
       "{'n_estimators': 300}"
      ]
     },
     "execution_count": 75,
     "metadata": {},
     "output_type": "execute_result"
    }
   ],
   "source": [
    "n_easimator_cv.best_params_ # 300개 일때에 최고라고 한다."
   ]
  },
  {
   "cell_type": "code",
   "execution_count": 76,
   "metadata": {},
   "outputs": [
    {
     "data": {
      "text/plain": [
       "0.3314682175827356"
      ]
     },
     "execution_count": 76,
     "metadata": {},
     "output_type": "execute_result"
    }
   ],
   "source": [
    "n_easimator_cv.best_score_ # 0.33"
   ]
  },
  {
   "cell_type": "code",
   "execution_count": 79,
   "metadata": {},
   "outputs": [
    {
     "data": {
      "text/plain": [
       "{'mean_fit_time': array([ 4.67975883,  9.62895122, 16.11798186, 22.24210076, 29.96060576]),\n",
       " 'std_fit_time': array([0.65655558, 0.65431361, 0.27380523, 1.24279112, 1.47636046]),\n",
       " 'mean_score_time': array([0.03951354, 0.06718035, 0.10392928, 0.10365863, 0.14130907]),\n",
       " 'std_score_time': array([0.00493641, 0.00927648, 0.02593855, 0.01488105, 0.03016926]),\n",
       " 'param_n_estimators': masked_array(data=[100, 200, 300, 400, 500],\n",
       "              mask=[False, False, False, False, False],\n",
       "        fill_value='?',\n",
       "             dtype=object),\n",
       " 'params': [{'n_estimators': 100},\n",
       "  {'n_estimators': 200},\n",
       "  {'n_estimators': 300},\n",
       "  {'n_estimators': 400},\n",
       "  {'n_estimators': 500}],\n",
       " 'split0_test_score': array([0.31022365, 0.319794  , 0.32006795, 0.32067826, 0.31978258]),\n",
       " 'split1_test_score': array([0.31169771, 0.32084071, 0.32309418, 0.32269407, 0.32174175]),\n",
       " 'split2_test_score': array([0.33290672, 0.3399149 , 0.34141485, 0.34113403, 0.34008152]),\n",
       " 'split3_test_score': array([0.33656415, 0.34499967, 0.34570289, 0.34661576, 0.34483664]),\n",
       " 'split4_test_score': array([0.31720381, 0.32475469, 0.32706123, 0.32619844, 0.32600999]),\n",
       " 'mean_test_score': array([0.32171921, 0.33006079, 0.33146822, 0.33146411, 0.3304905 ]),\n",
       " 'std_test_score': array([0.01094075, 0.01038118, 0.01020856, 0.01043125, 0.01009034]),\n",
       " 'rank_test_score': array([5, 4, 1, 2, 3])}"
      ]
     },
     "execution_count": 79,
     "metadata": {},
     "output_type": "execute_result"
    }
   ],
   "source": [
    "n_easimator_cv.cv_results_"
   ]
  },
  {
   "cell_type": "code",
   "execution_count": 80,
   "metadata": {},
   "outputs": [],
   "source": [
    "# 그런데 test score 에서 딱히 큰 변화가 없는듯 하다. 100~500 의 값을 가지고는 유의미한 변화가 없었다."
   ]
  },
  {
   "cell_type": "code",
   "execution_count": 81,
   "metadata": {
    "scrolled": true
   },
   "outputs": [
    {
     "name": "stdout",
     "output_type": "stream",
     "text": [
      "MSE : 0.6711261909008978\n",
      "R_squared : 0.3265368615295924\n"
     ]
    }
   ],
   "source": [
    "from sklearn import metrics\n",
    "y_pred = model.predict(X_test)\n",
    "print (\"MSE :\", metrics.mean_squared_error(y_test, y_pred))\n",
    "print('R_squared :',model.score(X_test, y_test)) "
   ]
  },
  {
   "cell_type": "code",
   "execution_count": 82,
   "metadata": {},
   "outputs": [],
   "source": [
    "# 우선 제일 좋은 값을 보이는 300 으로 결정"
   ]
  },
  {
   "cell_type": "markdown",
   "metadata": {},
   "source": [
    "### tree 의 모양에 관련된 parameter ( max depth 등 )"
   ]
  },
  {
   "cell_type": "code",
   "execution_count": 107,
   "metadata": {},
   "outputs": [],
   "source": [
    "model = XGBRegressor(n_estimators =300,\n",
    "                     learning_rate=0.05,\n",
    "                     random_state=42)"
   ]
  },
  {
   "cell_type": "code",
   "execution_count": 108,
   "metadata": {},
   "outputs": [],
   "source": [
    "param_grid ={'max_depth' : [8,9,10,11,12]}\n",
    "model = GridSearchCV(model,param_grid,cv=5)"
   ]
  },
  {
   "cell_type": "code",
   "execution_count": 109,
   "metadata": {
    "scrolled": true
   },
   "outputs": [
    {
     "data": {
      "text/plain": [
       "GridSearchCV(cv=5,\n",
       "             estimator=XGBRegressor(base_score=None, booster=None,\n",
       "                                    colsample_bylevel=None,\n",
       "                                    colsample_bynode=None,\n",
       "                                    colsample_bytree=None, gamma=None,\n",
       "                                    gpu_id=None, importance_type='gain',\n",
       "                                    interaction_constraints=None,\n",
       "                                    learning_rate=0.05, max_delta_step=None,\n",
       "                                    max_depth=None, min_child_weight=None,\n",
       "                                    missing=nan, monotone_constraints=None,\n",
       "                                    n_estimators=300, n_jobs=None,\n",
       "                                    num_parallel_tree=None, random_state=42,\n",
       "                                    reg_alpha=None, reg_lambda=None,\n",
       "                                    scale_pos_weight=None, subsample=None,\n",
       "                                    tree_method=None, validate_parameters=None,\n",
       "                                    verbosity=None),\n",
       "             param_grid={'max_depth': [8, 9, 10, 11, 12]})"
      ]
     },
     "execution_count": 109,
     "metadata": {},
     "output_type": "execute_result"
    }
   ],
   "source": [
    "model.fit(X_train, y_train,eval_metric=['rmse'])"
   ]
  },
  {
   "cell_type": "code",
   "execution_count": 110,
   "metadata": {
    "scrolled": false
   },
   "outputs": [
    {
     "data": {
      "text/plain": [
       "[<matplotlib.lines.Line2D at 0x23ae4fab6a0>]"
      ]
     },
     "execution_count": 110,
     "metadata": {},
     "output_type": "execute_result"
    },
    {
     "data": {
      "image/png": "[encoded data removed]",
      "text/plain": [
       "<Figure size 432x288 with 1 Axes>"
      ]
     },
     "metadata": {
      "needs_background": "light"
     },
     "output_type": "display_data"
    }
   ],
   "source": [
    "result = pd.DataFrame(model.cv_results_)\n",
    "plt.plot('param_max_depth','mean_test_score',data=result)"
   ]
  },
  {
   "cell_type": "code",
   "execution_count": 111,
   "metadata": {},
   "outputs": [
    {
     "name": "stdout",
     "output_type": "stream",
     "text": [
      "MSE : 0.6745671011381048\n",
      "R_squared : 0.3230839696011256\n"
     ]
    }
   ],
   "source": [
    "from sklearn import metrics\n",
    "y_pred = model.predict(X_test)\n",
    "print (\"MSE :\", metrics.mean_squared_error(y_test, y_pred))\n",
    "print('R_squared :',model.score(X_test, y_test)) "
   ]
  },
  {
   "cell_type": "markdown",
   "metadata": {},
   "source": [
    "### learning rate 에 관한 parameter"
   ]
  },
  {
   "cell_type": "markdown",
   "metadata": {},
   "source": [
    "10개가 최고인것을 볼 수 있다. "
   ]
  },
  {
   "cell_type": "code",
   "execution_count": 114,
   "metadata": {
    "scrolled": true
   },
   "outputs": [
    {
     "data": {
      "text/plain": [
       "GridSearchCV(cv=5,\n",
       "             estimator=XGBRegressor(base_score=None, booster=None,\n",
       "                                    colsample_bylevel=None,\n",
       "                                    colsample_bynode=None,\n",
       "                                    colsample_bytree=None, gamma=None,\n",
       "                                    gpu_id=None, importance_type='gain',\n",
       "                                    interaction_constraints=None,\n",
       "                                    learning_rate=None, max_delta_step=None,\n",
       "                                    max_depth=10, min_child_weight=None,\n",
       "                                    missing=nan, monotone_constraints=None,\n",
       "                                    n_estimators=300, n_jobs=None,\n",
       "                                    num_parallel_tree=None, random_state=42,\n",
       "                                    reg_alpha=None, reg_lambda=None,\n",
       "                                    scale_pos_weight=None, subsample=None,\n",
       "                                    tree_method=None, validate_parameters=None,\n",
       "                                    verbosity=None),\n",
       "             param_grid={'learning_rate': [0.03, 0.05, 0.08, 0.12]})"
      ]
     },
     "execution_count": 114,
     "metadata": {},
     "output_type": "execute_result"
    }
   ],
   "source": [
    "model = XGBRegressor(n_estimators =300,\n",
    "                     max_depth=10,\n",
    "                     random_state=42)\n",
    "param_grid ={'learning_rate' : [0.03,0.05,0.08,0.12]}\n",
    "model = GridSearchCV(model,param_grid,cv=5)\n",
    "model.fit(X_train, y_train,eval_metric=['rmse'])"
   ]
  },
  {
   "cell_type": "code",
   "execution_count": 120,
   "metadata": {},
   "outputs": [
    {
     "data": {
      "text/plain": [
       "{'learning_rate': 0.03}"
      ]
     },
     "execution_count": 120,
     "metadata": {},
     "output_type": "execute_result"
    }
   ],
   "source": [
    "model.best_params_"
   ]
  },
  {
   "cell_type": "code",
   "execution_count": 118,
   "metadata": {},
   "outputs": [
    {
     "data": {
      "text/plain": [
       "[<matplotlib.lines.Line2D at 0x23ae55375f8>]"
      ]
     },
     "execution_count": 118,
     "metadata": {},
     "output_type": "execute_result"
    },
    {
     "data": {
      "image/png": "[encoded data removed]",
      "text/plain": [
       "<Figure size 432x288 with 1 Axes>"
      ]
     },
     "metadata": {
      "needs_background": "light"
     },
     "output_type": "display_data"
    }
   ],
   "source": [
    "result = pd.DataFrame(model.cv_results_)\n",
    "plt.plot('param_learning_rate','mean_test_score',data=result)"
   ]
  },
  {
   "cell_type": "code",
   "execution_count": 121,
   "metadata": {},
   "outputs": [
    {
     "name": "stdout",
     "output_type": "stream",
     "text": [
      "MSE : 0.6829192817827932\n",
      "R_squared : 0.31470270559101\n"
     ]
    }
   ],
   "source": [
    "from sklearn import metrics\n",
    "y_pred = model.predict(X_test)\n",
    "print (\"MSE :\", metrics.mean_squared_error(y_test, y_pred))\n",
    "print('R_squared :',model.score(X_test, y_test)) "
   ]
  },
  {
   "cell_type": "markdown",
   "metadata": {},
   "source": [
    "?? 오히려 안좋아지고있다?"
   ]
  },
  {
   "cell_type": "markdown",
   "metadata": {},
   "source": [
    "0.03/ 0.05 는 큰 차이가 없으니 그냥 0.05 를 사용하도록 하자."
   ]
  },
  {
   "cell_type": "code",
   "execution_count": 123,
   "metadata": {},
   "outputs": [],
   "source": [
    "model = XGBRegressor(learning_rate=0.05,\n",
    "                     n_estimators=300,\n",
    "                     max_depth=10,\n",
    "                     random_state=42)"
   ]
  },
  {
   "cell_type": "code",
   "execution_count": 125,
   "metadata": {},
   "outputs": [
    {
     "data": {
      "text/plain": [
       "XGBRegressor(base_score=0.5, booster='gbtree', colsample_bylevel=1,\n",
       "             colsample_bynode=1, colsample_bytree=1, gamma=0, gpu_id=-1,\n",
       "             importance_type='gain', interaction_constraints='',\n",
       "             learning_rate=0.05, max_delta_step=0, max_depth=10,\n",
       "             min_child_weight=1, missing=nan, monotone_constraints='()',\n",
       "             n_estimators=300, n_jobs=0, num_parallel_tree=1, random_state=42,\n",
       "             reg_alpha=0, reg_lambda=1, scale_pos_weight=1, subsample=1,\n",
       "             tree_method='exact', validate_parameters=1, verbosity=None)"
      ]
     },
     "execution_count": 125,
     "metadata": {},
     "output_type": "execute_result"
    }
   ],
   "source": [
    "model.fit(X_train, y_train,eval_metric=['rmse'])"
   ]
  },
  {
   "cell_type": "code",
   "execution_count": 126,
   "metadata": {},
   "outputs": [
    {
     "name": "stdout",
     "output_type": "stream",
     "text": [
      "MSE : 0.6745671011381048\n",
      "R_squared : 0.3230839696011256\n"
     ]
    }
   ],
   "source": [
    "from sklearn import metrics\n",
    "y_pred = model.predict(X_test)\n",
    "print (\"MSE :\", metrics.mean_squared_error(y_test, y_pred))\n",
    "print('R_squared :',model.score(X_test, y_test)) "
   ]
  },
  {
   "cell_type": "markdown",
   "metadata": {},
   "source": [
    "0.05 를 사용하니까 그나마 좀 나은듯..."
   ]
  },
  {
   "cell_type": "markdown",
   "metadata": {},
   "source": [
    "### regular term"
   ]
  },
  {
   "cell_type": "code",
   "execution_count": 133,
   "metadata": {},
   "outputs": [],
   "source": [
    "model = XGBRegressor(n_estimators =300,\n",
    "                     max_depth=10,\n",
    "                     random_state=42,\n",
    "                    learning_rate=0.05)\n",
    "param_grid ={'reg_alpha' : [0.5,1,2,4]}\n",
    "model = GridSearchCV(model,param_grid,cv=3)"
   ]
  },
  {
   "cell_type": "code",
   "execution_count": 134,
   "metadata": {
    "scrolled": true
   },
   "outputs": [
    {
     "data": {
      "text/plain": [
       "GridSearchCV(cv=3,\n",
       "             estimator=XGBRegressor(base_score=None, booster=None,\n",
       "                                    colsample_bylevel=None,\n",
       "                                    colsample_bynode=None,\n",
       "                                    colsample_bytree=None, gamma=None,\n",
       "                                    gpu_id=None, importance_type='gain',\n",
       "                                    interaction_constraints=None,\n",
       "                                    learning_rate=0.05, max_delta_step=None,\n",
       "                                    max_depth=10, min_child_weight=None,\n",
       "                                    missing=nan, monotone_constraints=None,\n",
       "                                    n_estimators=300, n_jobs=None,\n",
       "                                    num_parallel_tree=None, random_state=42,\n",
       "                                    reg_alpha=None, reg_lambda=None,\n",
       "                                    scale_pos_weight=None, subsample=None,\n",
       "                                    tree_method=None, validate_parameters=None,\n",
       "                                    verbosity=None),\n",
       "             param_grid={'reg_alpha': [0.5, 1, 2, 4]})"
      ]
     },
     "execution_count": 134,
     "metadata": {},
     "output_type": "execute_result"
    }
   ],
   "source": [
    "model.fit(X_train, y_train,eval_metric=['rmse'])"
   ]
  },
  {
   "cell_type": "code",
   "execution_count": 137,
   "metadata": {},
   "outputs": [
    {
     "data": {
      "text/plain": [
       "[<matplotlib.lines.Line2D at 0x23ae49be940>]"
      ]
     },
     "execution_count": 137,
     "metadata": {},
     "output_type": "execute_result"
    },
    {
     "data": {
      "image/png": "[encoded data removed]",
      "text/plain": [
       "<Figure size 432x288 with 1 Axes>"
      ]
     },
     "metadata": {
      "needs_background": "light"
     },
     "output_type": "display_data"
    }
   ],
   "source": [
    "result = pd.DataFrame(model.cv_results_)\n",
    "plt.plot('param_reg_alpha','mean_test_score',data=result)"
   ]
  },
  {
   "cell_type": "code",
   "execution_count": 131,
   "metadata": {},
   "outputs": [
    {
     "name": "stdout",
     "output_type": "stream",
     "text": [
      "MSE : 0.667757222178015\n",
      "R_squared : 0.32991756143414486\n"
     ]
    }
   ],
   "source": [
    "from sklearn import metrics\n",
    "y_pred = model.predict(X_test)\n",
    "print (\"MSE :\", metrics.mean_squared_error(y_test, y_pred))\n",
    "print('R_squared :',model.score(X_test, y_test)) "
   ]
  },
  {
   "cell_type": "code",
   "execution_count": 138,
   "metadata": {},
   "outputs": [],
   "source": [
    "model =XGBRegressor(n_estimators =300,\n",
    "                     max_depth=10,\n",
    "                     random_state=42,\n",
    "                    learning_rate=0.05,\n",
    "                    reg_alpha=2)"
   ]
  },
  {
   "cell_type": "code",
   "execution_count": 139,
   "metadata": {
    "scrolled": true
   },
   "outputs": [
    {
     "data": {
      "text/plain": [
       "XGBRegressor(base_score=0.5, booster='gbtree', colsample_bylevel=1,\n",
       "             colsample_bynode=1, colsample_bytree=1, gamma=0, gpu_id=-1,\n",
       "             importance_type='gain', interaction_constraints='',\n",
       "             learning_rate=0.05, max_delta_step=0, max_depth=10,\n",
       "             min_child_weight=1, missing=nan, monotone_constraints='()',\n",
       "             n_estimators=300, n_jobs=0, num_parallel_tree=1, random_state=42,\n",
       "             reg_alpha=2, reg_lambda=1, scale_pos_weight=1, subsample=1,\n",
       "             tree_method='exact', validate_parameters=1, verbosity=None)"
      ]
     },
     "execution_count": 139,
     "metadata": {},
     "output_type": "execute_result"
    }
   ],
   "source": [
    "model.fit(X_train, y_train,eval_metric=['rmse'])"
   ]
  },
  {
   "cell_type": "code",
   "execution_count": 143,
   "metadata": {},
   "outputs": [
    {
     "data": {
      "text/plain": [
       "<matplotlib.axes._subplots.AxesSubplot at 0x23a81fc0908>"
      ]
     },
     "execution_count": 143,
     "metadata": {},
     "output_type": "execute_result"
    },
    {
     "data": {
      "image/png": "[encoded data removed]",
      "text/plain": [
       "<Figure size 1440x1440 with 1 Axes>"
      ]
     },
     "metadata": {
      "needs_background": "light"
     },
     "output_type": "display_data"
    }
   ],
   "source": [
    "plt.figure(figsize=(20,20))\n",
    "feat_importances = pd.Series(model.feature_importances_, index=X.columns)\n",
    "feat_importances.nlargest(100).plot(kind='barh')"
   ]
  },
  {
   "cell_type": "code",
   "execution_count": null,
   "metadata": {},
   "outputs": [],
   "source": []
  }
 ],
 "metadata": {
  "kernelspec": {
   "display_name": "Python 3",
   "language": "python",
   "name": "python3"
  },
  "language_info": {
   "codemirror_mode": {
    "name": "ipython",
    "version": 3
   },
   "file_extension": ".py",
   "mimetype": "text/x-python",
   "name": "python",
   "nbconvert_exporter": "python",
   "pygments_lexer": "ipython3",
   "version": "3.7.3"
  },
  "toc": {
   "base_numbering": 1,
   "nav_menu": {},
   "number_sections": true,
   "sideBar": true,
   "skip_h1_title": false,
   "title_cell": "Table of Contents",
   "title_sidebar": "Contents",
   "toc_cell": false,
   "toc_position": {
    "height": "calc(100% - 180px)",
    "left": "10px",
    "top": "150px",
    "width": "307.182px"
   },
   "toc_section_display": true,
   "toc_window_display": false
  },
  "varInspector": {
   "cols": {
    "lenName": 16,
    "lenType": 16,
    "lenVar": 40
   },
   "kernels_config": {
    "python": {
     "delete_cmd_postfix": "",
     "delete_cmd_prefix": "del ",
     "library": "var_list.py",
     "varRefreshCmd": "print(var_dic_list())"
    },
    "r": {
     "delete_cmd_postfix": ") ",
     "delete_cmd_prefix": "rm(",
     "library": "var_list.r",
     "varRefreshCmd": "cat(var_dic_list()) "
    }
   },
   "types_to_exclude": [
    "module",
    "function",
    "builtin_function_or_method",
    "instance",
    "_Feature"
   ],
   "window_display": false
  }
 },
 "nbformat": 4,
 "nbformat_minor": 2
}
