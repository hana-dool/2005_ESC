{
 "cells": [
  {
   "cell_type": "code",
   "execution_count": 47,
   "metadata": {},
   "outputs": [],
   "source": [
    "import numpy as np\n",
    "import pandas as pd\n",
    "import seaborn as sns\n",
    "import matplotlib as mpl\n",
    "import matplotlib.pyplot as plt"
   ]
  },
  {
   "cell_type": "markdown",
   "metadata": {},
   "source": [
    "# 데이터 전처리"
   ]
  },
  {
   "cell_type": "code",
   "execution_count": 22,
   "metadata": {},
   "outputs": [],
   "source": [
    "data=pd.read_csv('C:/Users/Han/Desktop/ddddaaa.csv')"
   ]
  },
  {
   "cell_type": "code",
   "execution_count": 23,
   "metadata": {},
   "outputs": [],
   "source": [
    "data.drop('Unnamed: 0',axis=1,inplace=True)"
   ]
  },
  {
   "cell_type": "code",
   "execution_count": 24,
   "metadata": {},
   "outputs": [],
   "source": [
    "from sklearn.preprocessing import StandardScaler\n",
    "scaler = StandardScaler()"
   ]
  },
  {
   "cell_type": "code",
   "execution_count": 26,
   "metadata": {
    "scrolled": true
   },
   "outputs": [],
   "source": [
    "data[['Q34','Q4B']]=scaler.fit_transform(data[['Q34','Q4B']])"
   ]
  },
  {
   "cell_type": "code",
   "execution_count": 30,
   "metadata": {},
   "outputs": [],
   "source": [
    "y=data['Q4B']"
   ]
  },
  {
   "cell_type": "code",
   "execution_count": 34,
   "metadata": {},
   "outputs": [],
   "source": [
    "X=data.drop('Q4B',axis=1)"
   ]
  },
  {
   "cell_type": "code",
   "execution_count": 35,
   "metadata": {
    "scrolled": true
   },
   "outputs": [
    {
     "name": "stdout",
     "output_type": "stream",
     "text": [
      "<class 'pandas.core.frame.DataFrame'>\n",
      "RangeIndex: 29070 entries, 0 to 29069\n",
      "Data columns (total 83 columns):\n",
      "Q34          29070 non-null float64\n",
      "Q1_1         29070 non-null int64\n",
      "Q2B_3        29070 non-null int64\n",
      "Q2B_4        29070 non-null int64\n",
      "Q2B_6        29070 non-null int64\n",
      "Q3_1         29070 non-null int64\n",
      "Q3_2         29070 non-null int64\n",
      "Q6A3_3       29070 non-null int64\n",
      "Q6A3_4       29070 non-null int64\n",
      "Q6A6_3       29070 non-null int64\n",
      "Q6A6_4       29070 non-null int64\n",
      "Q6A8_3       29070 non-null int64\n",
      "Q6A8_4       29070 non-null int64\n",
      "Q6A9_3       29070 non-null int64\n",
      "Q6A9_4       29070 non-null int64\n",
      "Q6A11_3      29070 non-null int64\n",
      "Q6A11_4      29070 non-null int64\n",
      "Q8_3         29070 non-null int64\n",
      "Q8_4         29070 non-null int64\n",
      "Q9_3         29070 non-null int64\n",
      "Q9_4         29070 non-null int64\n",
      "Q11_3        29070 non-null int64\n",
      "Q11_4        29070 non-null int64\n",
      "Q12B1_1      29070 non-null int64\n",
      "Q12E1_1      29070 non-null int64\n",
      "Q12F1_1      29070 non-null int64\n",
      "Q13_3        29070 non-null int64\n",
      "Q13_4        29070 non-null int64\n",
      "Q15_3        29070 non-null int64\n",
      "Q15_4        29070 non-null int64\n",
      "Q17A1_1      29070 non-null int64\n",
      "Q18_1        29070 non-null int64\n",
      "Q20_1        29070 non-null int64\n",
      "Q21A_1       29070 non-null int64\n",
      "Q24B_1       29070 non-null int64\n",
      "Q24B_2       29070 non-null int64\n",
      "Q24B_3       29070 non-null int64\n",
      "Q24B_4       29070 non-null int64\n",
      "Q24B_5       29070 non-null int64\n",
      "Q28_3.0      29070 non-null int64\n",
      "Q28_4.0      29070 non-null int64\n",
      "Q32A4_3.0    29070 non-null int64\n",
      "Q32A4_4.0    29070 non-null int64\n",
      "Q37_1        29070 non-null int64\n",
      "Q37_2        29070 non-null int64\n",
      "Q40_2        29070 non-null int64\n",
      "Q41_2        29070 non-null int64\n",
      "Q41_3        29070 non-null int64\n",
      "Q42A_2       29070 non-null int64\n",
      "Q42A_3       29070 non-null int64\n",
      "Q42A_4       29070 non-null int64\n",
      "Q43_1        29070 non-null int64\n",
      "Q43_2        29070 non-null int64\n",
      "Q44A_1       29070 non-null int64\n",
      "Q44A_2       29070 non-null int64\n",
      "Q44A_3       29070 non-null int64\n",
      "Q45A3_1      29070 non-null int64\n",
      "Q45A3_2      29070 non-null int64\n",
      "Q45A3_3      29070 non-null int64\n",
      "Q47_1        29070 non-null int64\n",
      "Q47_2        29070 non-null int64\n",
      "Q47_3        29070 non-null int64\n",
      "Q47C_1       29070 non-null int64\n",
      "Q47C_2       29070 non-null int64\n",
      "Q47C_3       29070 non-null int64\n",
      "Q48_1        29070 non-null int64\n",
      "Q48_2        29070 non-null int64\n",
      "Q49_1        29070 non-null int64\n",
      "Q49_2        29070 non-null int64\n",
      "FAM1_1       29070 non-null int64\n",
      "MAR_2        29070 non-null int64\n",
      "MAR_3        29070 non-null int64\n",
      "MAR_4        29070 non-null int64\n",
      "DE2_1        29070 non-null int64\n",
      "DE2_2        29070 non-null int64\n",
      "DE3_1        29070 non-null int64\n",
      "DE7_1        29070 non-null int64\n",
      "DE8_2        29070 non-null int64\n",
      "DE8_3        29070 non-null int64\n",
      "DE8_4        29070 non-null int64\n",
      "DE8_5        29070 non-null int64\n",
      "DE9_3        29070 non-null int64\n",
      "DE9_4        29070 non-null int64\n",
      "dtypes: float64(1), int64(82)\n",
      "memory usage: 18.4 MB\n"
     ]
    }
   ],
   "source": [
    "X.info()"
   ]
  },
  {
   "cell_type": "code",
   "execution_count": 42,
   "metadata": {},
   "outputs": [],
   "source": [
    "from sklearn.model_selection import train_test_split\n",
    "X_train, X_test, y_train, y_test = train_test_split(X, y, test_size=0.2, random_state=42)"
   ]
  },
  {
   "cell_type": "code",
   "execution_count": 43,
   "metadata": {},
   "outputs": [],
   "source": [
    "# criterion : 불순성의 기준을 뭐로 할지 'gini'(defalut) / 'entropy'\n",
    "# 다음의 parameterm 들으 overfitting 을 해결해준다.\n",
    "# max_depth : 트리의 최대 깊이. \n",
    "#           : (defalut) full tree 가 될때까지 확장.\n",
    "#           : 이를 이용해 사전 가지치기를 하고/ overfitting 을 해결할 수 있다.\n",
    "# min_samples_split : 노드에서 가지 분리할 떄 필요한 최소 sample 갯수에 제한을 준다.\n",
    "#                   : (default) = 2 \n",
    "# min_samples_leaf : leaf 에서 가져야 할 최소 sample \n",
    "#                  : (default) = 1\n",
    "# max_features : Decision tree 를 만들때 사용할 수 있는 변수의 갯수 제한\n",
    "#              : (default) = 총 변수 갯수 사용"
   ]
  },
  {
   "cell_type": "markdown",
   "metadata": {},
   "source": [
    "# xgb"
   ]
  },
  {
   "cell_type": "code",
   "execution_count": 48,
   "metadata": {},
   "outputs": [
    {
     "data": {
      "text/plain": [
       "XGBRegressor(base_score=0.5, booster='gbtree', colsample_bylevel=1,\n",
       "             colsample_bynode=1, colsample_bytree=1, gamma=0, gpu_id=-1,\n",
       "             importance_type='gain', interaction_constraints='',\n",
       "             learning_rate=0.08, max_delta_step=0, max_depth=7,\n",
       "             min_child_weight=1, missing=nan, monotone_constraints='()',\n",
       "             n_estimators=300, n_jobs=0, num_parallel_tree=1, random_state=0,\n",
       "             reg_alpha=0.1, reg_lambda=1, scale_pos_weight=1, subsample=1,\n",
       "             tree_method='exact', validate_parameters=1, verbosity=None)"
      ]
     },
     "execution_count": 48,
     "metadata": {},
     "output_type": "execute_result"
    }
   ],
   "source": [
    "import xgboost as xgb\n",
    "from xgboost.sklearn import XGBRegressor\n",
    "model = XGBRegressor(n_estimators=300,\n",
    "                     learning_rate=0.08,\n",
    "                     max_depth=7,\n",
    "                     reg_alpha=0.1)\n",
    "model.fit(X_train, y_train)"
   ]
  },
  {
   "cell_type": "code",
   "execution_count": 49,
   "metadata": {},
   "outputs": [
    {
     "name": "stdout",
     "output_type": "stream",
     "text": [
      "MSE : 0.6780423579493688\n",
      "R_squared : 0.31959661149942076\n"
     ]
    }
   ],
   "source": [
    "from sklearn import metrics\n",
    "y_pred = model.predict(X_test)\n",
    "print (\"MSE :\", metrics.mean_squared_error(y_test, y_pred))\n",
    "print('R_squared :',model.score(X_test, y_test)) "
   ]
  },
  {
   "cell_type": "code",
   "execution_count": null,
   "metadata": {},
   "outputs": [],
   "source": []
  }
 ],
 "metadata": {
  "kernelspec": {
   "display_name": "Python 3",
   "language": "python",
   "name": "python3"
  },
  "language_info": {
   "codemirror_mode": {
    "name": "ipython",
    "version": 3
   },
   "file_extension": ".py",
   "mimetype": "text/x-python",
   "name": "python",
   "nbconvert_exporter": "python",
   "pygments_lexer": "ipython3",
   "version": "3.7.3"
  },
  "toc": {
   "base_numbering": 1,
   "nav_menu": {},
   "number_sections": true,
   "sideBar": true,
   "skip_h1_title": false,
   "title_cell": "Table of Contents",
   "title_sidebar": "Contents",
   "toc_cell": false,
   "toc_position": {
    "height": "calc(100% - 180px)",
    "left": "10px",
    "top": "150px",
    "width": "307.193px"
   },
   "toc_section_display": true,
   "toc_window_display": true
  },
  "varInspector": {
   "cols": {
    "lenName": 16,
    "lenType": 16,
    "lenVar": 40
   },
   "kernels_config": {
    "python": {
     "delete_cmd_postfix": "",
     "delete_cmd_prefix": "del ",
     "library": "var_list.py",
     "varRefreshCmd": "print(var_dic_list())"
    },
    "r": {
     "delete_cmd_postfix": ") ",
     "delete_cmd_prefix": "rm(",
     "library": "var_list.r",
     "varRefreshCmd": "cat(var_dic_list()) "
    }
   },
   "types_to_exclude": [
    "module",
    "function",
    "builtin_function_or_method",
    "instance",
    "_Feature"
   ],
   "window_display": false
  }
 },
 "nbformat": 4,
 "nbformat_minor": 2
}
