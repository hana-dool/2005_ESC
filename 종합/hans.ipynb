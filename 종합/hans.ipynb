{
 "cells": [
  {
   "cell_type": "code",
   "execution_count": 1,
   "metadata": {},
   "outputs": [],
   "source": [
    "import pandas as pd\n",
    "import numpy as np\n",
    "import seaborn as sns\n",
    "import matplotlib.pyplot as plt\n",
    "np.random.seed(101)"
   ]
  },
  {
   "cell_type": "code",
   "execution_count": 2,
   "metadata": {},
   "outputs": [],
   "source": [
    "data = pd.read_csv('C:/Users/Han/Desktop/Final.csv')"
   ]
  },
  {
   "cell_type": "code",
   "execution_count": 3,
   "metadata": {},
   "outputs": [],
   "source": [
    "hans = pd.DataFrame([])"
   ]
  },
  {
   "cell_type": "markdown",
   "metadata": {},
   "source": [
    "# Q43 귀하는 보행환경이 만족스러우신가요?"
   ]
  },
  {
   "cell_type": "code",
   "execution_count": 4,
   "metadata": {
    "scrolled": true
   },
   "outputs": [],
   "source": [
    "hans['Q43']=data['Q43A1'] + data['Q43A2']"
   ]
  },
  {
   "cell_type": "code",
   "execution_count": 5,
   "metadata": {},
   "outputs": [],
   "source": [
    "hans.loc[(data['Q43A1'] + data['Q43A2'] <= 5) ,'Q43'] = 1 # 불만족 1\n",
    "hans.loc[(data['Q43A1'] + data['Q43A2'] > 5) & (data['Q43A1'] + data['Q43A2']  < 8 ) ,'Q43'] = 0 #보통 =0\n",
    "hans.loc[(data['Q43A1'] + data['Q43A2'] >=8 ) ,'Q43'] = 2  # 만족 2"
   ]
  },
  {
   "cell_type": "markdown",
   "metadata": {},
   "source": [
    "# Q44 귀하는 현재 자전거를 이용하시나요?"
   ]
  },
  {
   "cell_type": "code",
   "execution_count": 6,
   "metadata": {},
   "outputs": [],
   "source": [
    "hans['Q44']=data['Q44'] # 3 은 미이용"
   ]
  },
  {
   "cell_type": "code",
   "execution_count": 7,
   "metadata": {},
   "outputs": [],
   "source": [
    "hans['Q44A'] = data['Q44A']\n",
    "# 자전거를 이용하지 않으면 Q44A 에서 nan 으로 나타날 것이다.\n",
    "hans.loc[(data['Q44'] == 3) , 'Q44A'] = 0 #미이용\n",
    "hans.loc[(data['Q44A'] == 1) | (data['Q44A'] == 2) ,'Q44A'] = 1 # 불만족 1\n",
    "hans.loc[(data['Q44A'] == 3) ,'Q44A'] = 2  # 보통 2\n",
    "hans.loc[(data['Q44A'] == 4) | (data['Q44A'] == 5) ,'Q44A'] = 3 #만족 3\n"
   ]
  },
  {
   "cell_type": "markdown",
   "metadata": {},
   "source": [
    "# Q45 서울의 교통수단에 대한 만족도"
   ]
  },
  {
   "cell_type": "markdown",
   "metadata": {},
   "source": [
    "이때 뒤에 버스의 만족도 부분은 문항이 겹친다. 그래프 그려본 결과 둘이 어느정도 상관관계가 있었다. \n",
    "즉 대중교통에 대한 만족 / 택시에 대한 만족으로 나누도록 하자."
   ]
  },
  {
   "cell_type": "code",
   "execution_count": 8,
   "metadata": {},
   "outputs": [],
   "source": [
    "hans.loc[(data['Q45A1'] == 9) ,'Q45A1'] = 0 # 이용안함\n",
    "hans.loc[(data['Q45A1'] == 1) | (data['Q45A1'] == 2) ,'Q45A1'] = 1 # 불만족 1\n",
    "hans.loc[(data['Q45A1'] == 3) ,'Q45A1'] = 2  # 보통 2\n",
    "hans.loc[(data['Q45A1'] == 4) | (data['Q45A1'] == 5) ,'Q45A1'] = 3 #만족 3\n",
    "\n",
    "hans.loc[(data['Q45A3'] == 9) ,'Q45A3'] = 0 # 이용안함\n",
    "hans.loc[(data['Q45A3'] == 1) | (data['Q45A3'] == 2) ,'Q45A3'] = 1 # 불만족 1\n",
    "hans.loc[(data['Q45A3'] == 3) ,'Q45A3'] = 2  # 보통 2\n",
    "hans.loc[(data['Q45A3'] == 4) | (data['Q45A3'] == 5) ,'Q45A3'] =3"
   ]
  },
  {
   "cell_type": "markdown",
   "metadata": {},
   "source": [
    "# Q47 직업관련 질문"
   ]
  },
  {
   "cell_type": "code",
   "execution_count": 9,
   "metadata": {
    "scrolled": true
   },
   "outputs": [
    {
     "data": {
      "text/plain": [
       "3.0    5355\n",
       "2.0    1481\n",
       "4.0    1119\n",
       "1.0     453\n",
       "5.0     154\n",
       "Name: Q47A, dtype: int64"
      ]
     },
     "execution_count": 9,
     "metadata": {},
     "output_type": "execute_result"
    }
   ],
   "source": [
    "data['Q47A'].value_counts()"
   ]
  },
  {
   "cell_type": "code",
   "execution_count": 10,
   "metadata": {},
   "outputs": [
    {
     "data": {
      "text/plain": [
       "3"
      ]
     },
     "execution_count": 10,
     "metadata": {},
     "output_type": "execute_result"
    }
   ],
   "source": [
    "np.random.randint(0,4)"
   ]
  },
  {
   "cell_type": "code",
   "execution_count": 11,
   "metadata": {
    "scrolled": true
   },
   "outputs": [],
   "source": [
    "hans['Q47'] = data['Q47']\n",
    "hans.loc[(data['Q47']) ==2 , 'Q47' ] = 0 # 무직 =0\n",
    "hans.loc[(data['Q47A'] == 1) | (data['Q47A'] == 2) ,'Q47'] = 1 # 고용주/ 단독자영업 \n",
    "hans.loc[(data['Q47A'] == 3) ,'Q47'] = 2  # 상용근로자 2\n",
    "hans.loc[(data['Q47A'] == 4) | (data['Q47A'] == 5),'Q47'] = 3 # 무급/입시직\n",
    "hans.loc[(data['Q47A'] == 6),'Q47'] = np.random.randint(0,4) # 기타는 랜덤으로 대체"
   ]
  },
  {
   "cell_type": "markdown",
   "metadata": {},
   "source": [
    "# Q47_B 귀하의 근무형태?"
   ]
  },
  {
   "cell_type": "code",
   "execution_count": 12,
   "metadata": {},
   "outputs": [],
   "source": [
    "hans['Q47B'] = data['Q47B'].fillna(0) #0=무직 "
   ]
  },
  {
   "cell_type": "markdown",
   "metadata": {},
   "source": [
    "# Q47_C직업이 만족스러우신가요?"
   ]
  },
  {
   "cell_type": "code",
   "execution_count": 13,
   "metadata": {},
   "outputs": [],
   "source": [
    "hans['Q47C'] = data['Q47C'].fillna(0).astype('int') #무직은 0..."
   ]
  },
  {
   "cell_type": "code",
   "execution_count": 14,
   "metadata": {},
   "outputs": [],
   "source": [
    "hans.loc[(data['Q47C'] == 1) | (data['Q47C'] == 2) ,'Q47C'] = 1 # 불만\n",
    "hans.loc[(data['Q47C'] == 3) ,'Q47C'] = 2  # 보통\n",
    "hans.loc[(data['Q47C'] >= 4) ,'Q47C'] = 3 # 긍정"
   ]
  },
  {
   "cell_type": "markdown",
   "metadata": {},
   "source": [
    "# Q48 은퇴시기는 언제로?"
   ]
  },
  {
   "cell_type": "code",
   "execution_count": 15,
   "metadata": {},
   "outputs": [],
   "source": [
    "hans.loc[(data['Q48'] <= 3) ,'Q48'] = 0  # 좀 젊을때\n",
    "hans.loc[(data['Q48'] == 4) ,'Q48'] = 1  # 보통이지 뭐\n",
    "hans.loc[(data['Q48'] >= 5) ,'Q48'] = 2  # 나이들었을떄"
   ]
  },
  {
   "cell_type": "markdown",
   "metadata": {},
   "source": [
    "# 49 은퇴후의 월 소득!"
   ]
  },
  {
   "cell_type": "code",
   "execution_count": 16,
   "metadata": {
    "scrolled": false
   },
   "outputs": [],
   "source": [
    "#123/4/567\n",
    "hans.loc[(data['Q49'] <= 3) ,'Q49'] = 0 \n",
    "hans.loc[(data['Q49'] == 4) ,'Q49'] = 1  \n",
    "hans.loc[(data['Q49'] >= 5) ,'Q49'] = 2 "
   ]
  },
  {
   "cell_type": "code",
   "execution_count": 17,
   "metadata": {},
   "outputs": [],
   "source": [
    "hans = hans.astype('int')"
   ]
  },
  {
   "cell_type": "code",
   "execution_count": 18,
   "metadata": {
    "scrolled": true
   },
   "outputs": [
    {
     "data": {
      "image/png": "[encoded data removed]",
      "text/plain": [
       "<Figure size 1080x1080 with 2 Axes>"
      ]
     },
     "metadata": {
      "needs_background": "light"
     },
     "output_type": "display_data"
    }
   ],
   "source": [
    "plt.figure(figsize=(15,15))\n",
    "sns.heatmap(data = hans.corr(), annot=True, fmt = '.2f', cmap='Blues');"
   ]
  },
  {
   "cell_type": "code",
   "execution_count": 19,
   "metadata": {},
   "outputs": [
    {
     "data": {
      "text/plain": [
       "['Q43', 'Q44', 'Q44A', 'Q45A1', 'Q45A3', 'Q47', 'Q47B', 'Q47C', 'Q48', 'Q49']"
      ]
     },
     "execution_count": 19,
     "metadata": {},
     "output_type": "execute_result"
    }
   ],
   "source": [
    "list(hans.columns.values)"
   ]
  },
  {
   "cell_type": "code",
   "execution_count": 20,
   "metadata": {},
   "outputs": [],
   "source": [
    "hans=pd.get_dummies(data=hans,columns=list(hans.columns.values),drop_first=True)"
   ]
  },
  {
   "cell_type": "code",
   "execution_count": 21,
   "metadata": {},
   "outputs": [],
   "source": [
    "hans.to_csv('C:/Users/Han/Desktop/pg3-2.csv')"
   ]
  },
  {
   "cell_type": "code",
   "execution_count": null,
   "metadata": {},
   "outputs": [],
   "source": []
  }
 ],
 "metadata": {
  "kernelspec": {
   "display_name": "Python 3",
   "language": "python",
   "name": "python3"
  },
  "language_info": {
   "codemirror_mode": {
    "name": "ipython",
    "version": 3
   },
   "file_extension": ".py",
   "mimetype": "text/x-python",
   "name": "python",
   "nbconvert_exporter": "python",
   "pygments_lexer": "ipython3",
   "version": "3.7.3"
  },
  "toc": {
   "base_numbering": 1,
   "nav_menu": {},
   "number_sections": true,
   "sideBar": true,
   "skip_h1_title": false,
   "title_cell": "Table of Contents",
   "title_sidebar": "Contents",
   "toc_cell": false,
   "toc_position": {},
   "toc_section_display": true,
   "toc_window_display": false
  },
  "varInspector": {
   "cols": {
    "lenName": 16,
    "lenType": 16,
    "lenVar": 40
   },
   "kernels_config": {
    "python": {
     "delete_cmd_postfix": "",
     "delete_cmd_prefix": "del ",
     "library": "var_list.py",
     "varRefreshCmd": "print(var_dic_list())"
    },
    "r": {
     "delete_cmd_postfix": ") ",
     "delete_cmd_prefix": "rm(",
     "library": "var_list.r",
     "varRefreshCmd": "cat(var_dic_list()) "
    }
   },
   "types_to_exclude": [
    "module",
    "function",
    "builtin_function_or_method",
    "instance",
    "_Feature"
   ],
   "window_display": false
  }
 },
 "nbformat": 4,
 "nbformat_minor": 2
}
